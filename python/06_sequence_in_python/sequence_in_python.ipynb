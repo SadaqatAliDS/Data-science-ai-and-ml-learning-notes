{
 "cells": [
  {
   "cell_type": "markdown",
   "id": "125ba5c9",
   "metadata": {},
   "source": [
    "\n",
    "\n",
    "### ✅ **🌈 Concept of Sequence in Python**\n",
    "---\n",
    "In **simple words**, a **sequence** in Python is a **collection of items ordered by position (index)**, where each item can be accessed using its **index number**.\n",
    "\n",
    "📦 Think of a sequence like a **train**, where:\n",
    "\n",
    "* Each **bogie (coach)** is an item.\n",
    "* Each **bogie** has a number (index).\n",
    "* You can pick a specific coach by its number.\n",
    "* You can go through coaches one by one.\n",
    "* Some trains allow you to change coaches (mutable), some don’t (immutable).\n",
    "\n",
    "---\n",
    "\n",
    "### ✅ **📌 Key Characteristics of Sequences**\n",
    "\n",
    "| Feature                     | Meaning                                                           |\n",
    "| --------------------------- | ----------------------------------------------------------------- |\n",
    "| 🔢 **Indexed**              | Items have positions (0, 1, 2, …) so you can access them directly |\n",
    "| 📏 **Ordered**              | Items are stored in the order you added them                      |\n",
    "| 🔁 **Iterable**             | You can loop (for-loop) through them                              |\n",
    "| 🔄 **Slicing**              | You can take a sub-part like `seq[1:4]`                           |\n",
    "| 📋 **Common methods**       | `len()`, `min()`, `max()`, `count()`, `index()`, etc.             |\n",
    "| 🧱 **Homogeneous or mixed** | Strings hold only characters, but lists/tuples can hold anything  |\n",
    "\n",
    "---\n",
    "\n",
    "### ✅ **📦 Types of Sequences**\n",
    "\n",
    "| Type    | Mutable?    | Example            |\n",
    "| ------- | ----------- | ------------------ |\n",
    "| `str`   | ❌ Immutable | `'hello'`          |\n",
    "| `list`  | ✅ Mutable   | `[1, 2, 'apple']`  |\n",
    "| `tuple` | ❌ Immutable | `(3, 4, 'banana')` |\n",
    "| `range` | ❌ Immutable | `range(0, 5)`      |\n",
    "\n",
    "---\n",
    "\n",
    "### ✅ **🎯 Main Purpose of Sequences**\n",
    "\n",
    "The **main concept** of sequences is to allow **ordered data handling**:\n",
    "\n",
    "* Store multiple values.\n",
    "* Access any value by position.\n",
    "* Loop over values.\n",
    "* Apply common patterns (search, slicing, sorting, etc).\n",
    "\n",
    "💡 It gives you a **unified way to work with collections**. So whether you're dealing with text (`str`), numbers (`list`, `tuple`), or ranges of values — **you use the same logic and operations**!\n",
    "\n",
    "---\n",
    "\n",
    "### ✅ **📘 Simple Example:**\n"
   ]
  },
  {
   "cell_type": "code",
   "execution_count": null,
   "id": "ba13c76c",
   "metadata": {},
   "outputs": [],
   "source": [
    "my_list = ['apple', 'banana', 'cherry']\n",
    "\n",
    "# Access by index\n",
    "print(my_list[1])  # banana\n",
    "\n",
    "# Slicing\n",
    "print(my_list[0:2])  # ['apple', 'banana']\n",
    "\n",
    "# Iteration\n",
    "for fruit in my_list:\n",
    "    print(fruit)\n",
    "\n",
    "# Common operations\n",
    "print(len(my_list))  # 3"
   ]
  },
  {
   "cell_type": "markdown",
   "id": "b14b9ecf",
   "metadata": {},
   "source": [
    "🟢 These same things work with `str`, `tuple`, `range`, etc.\n",
    "\n",
    "---\n",
    "\n",
    "### ✅ **🧠 Final Understanding**\n",
    "\n",
    "👉 A **sequence is just a way to manage multiple values in order**, with tools to:\n",
    "\n",
    "* **Access** them easily,\n",
    "* **Loop** through them,\n",
    "* **Slice** parts of them,\n",
    "* And do operations like counting, searching, comparing, etc.\n",
    "\n",
    "---\n"
   ]
  },
  {
   "cell_type": "markdown",
   "id": "0ccb4dca",
   "metadata": {},
   "source": [
    "### _**Common Operations**_"
   ]
  },
  {
   "cell_type": "code",
   "execution_count": null,
   "id": "e8d2a2cc",
   "metadata": {},
   "outputs": [],
   "source": [
    "my_list = [1, 2, 3, 4, 5]\n",
    "print (len(my_list)) # output: 5"
   ]
  },
  {
   "cell_type": "markdown",
   "id": "6d6ecd68",
   "metadata": {},
   "source": [
    "**2. Membership Test `in, not in`**\n",
    "- You can check if an element is present in a sequence using the `in` and `not in` operators."
   ]
  },
  {
   "cell_type": "code",
   "execution_count": null,
   "id": "d27c79ad",
   "metadata": {},
   "outputs": [],
   "source": [
    "fruits = [\"apple\", \"banana\", \"cherry\"]\n",
    "print (\"apple\" in fruits) # Output : True\n",
    "print (\"mango\" not in fruits) # Output: True"
   ]
  },
  {
   "cell_type": "markdown",
   "id": "700b4ff0",
   "metadata": {},
   "source": [
    "**3. Concatenation**\n",
    "- You can concatenate sequences using the `+` oprator.\n"
   ]
  },
  {
   "cell_type": "code",
   "execution_count": null,
   "id": "28f5da82",
   "metadata": {},
   "outputs": [],
   "source": [
    "list1 = [1, 2, 3]\n",
    "list2 = [4, 5, 6]\n",
    "combined = list1 + list2\n",
    "print (combined) # Output : [1, 2, 3, 4, 5, 6]"
   ]
  },
  {
   "cell_type": "markdown",
   "id": "9480278f",
   "metadata": {},
   "source": [
    "**4. Repetition**\n",
    "- You can repeat a sequence multiple times using the `*` operator."
   ]
  },
  {
   "cell_type": "code",
   "execution_count": null,
   "id": "8fa67c12",
   "metadata": {},
   "outputs": [],
   "source": [
    "my_list = [1, 2, 3]\n",
    "print (my_list * 2) # Output: [1, 2, 3, 1, 2, 3]"
   ]
  },
  {
   "cell_type": "markdown",
   "id": "e463b85a",
   "metadata": {},
   "source": [
    "---"
   ]
  }
 ],
 "metadata": {
  "kernelspec": {
   "display_name": "python_basics",
   "language": "python",
   "name": "python3"
  },
  "language_info": {
   "codemirror_mode": {
    "name": "ipython",
    "version": 3
   },
   "file_extension": ".py",
   "mimetype": "text/x-python",
   "name": "python",
   "nbconvert_exporter": "python",
   "pygments_lexer": "ipython3",
   "version": "3.13.2"
  }
 },
 "nbformat": 4,
 "nbformat_minor": 5
}
