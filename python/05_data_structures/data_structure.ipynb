{
 "cells": [
  {
   "cell_type": "markdown",
   "id": "02502f0a",
   "metadata": {},
   "source": [
    "# _**What is Data Structures?**_"
   ]
  },
  {
   "cell_type": "markdown",
   "id": "32158fb1",
   "metadata": {},
   "source": [
    "- In Python, **data structures** are used to store and organize data efficiently, making it easy to perform operations like accessing, modifying, and manipulating the data.\n",
    "\n",
    "   - Python data structures are the **building blocks of any robust and efficient programming solution.**\n",
    "   - They play a crucial role in organizing and managing data, making our code more organized, optimized, and scalable.\n",
    "---"
   ]
  },
  {
   "cell_type": "markdown",
   "id": "bb3e2c55",
   "metadata": {},
   "source": [
    "# _**Types of Data Structures**_"
   ]
  },
  {
   "cell_type": "markdown",
   "id": "ad78c7b3",
   "metadata": {},
   "source": [
    "🔹There are two main types of data structures.\n",
    "- **Primitive** \n",
    "    - `Int`\n",
    "    - `Char`\n",
    "    - `Bool`\n",
    "    - `Float`\n",
    "    - `Pointer`\n",
    "- **Non-Primitive**\n",
    "    - `linear`\n",
    "        - `Static`\n",
    "            - `Array`\n",
    "        - `Dynamic`\n",
    "            - `Linked list`\n",
    "            - `Stack`\n",
    "            - `Queue`\n",
    "    - `Non-linear`\n",
    "        - `Tree`\n",
    "        - `Graph`  \n",
    "---      "
   ]
  },
  {
   "cell_type": "markdown",
   "id": "732daef6",
   "metadata": {},
   "source": [
    "## _**Primitive Data Structures**_"
   ]
  },
  {
   "cell_type": "markdown",
   "id": "7abc76ab",
   "metadata": {},
   "source": [
    "These are the most basic data types provided by programming languages.They typically represent single values and are directly operated upon by machine-level instuctions. They include:\n",
    "\n",
    "**Integer `int`:**\n",
    "- Whole numbers, both positive and negative (e.g., -3, 42).\n",
    "\n",
    "**Character `char`:** \n",
    "- Single characters (e.g., 'a','B','1'), usually represented by ASCII or Unicode \n",
    "values.\n",
    "\n",
    "**Boolean `bool`:**\n",
    "- Values representing truth (True or False).\n",
    "\n",
    "**Float `float`:**\n",
    "- Numbers with decimal points (e.g., 3.14, -0.001).\n",
    "\n",
    "**Pointer:** \n",
    "- A variable that stores the memory address of another variable. Pointers are more common in language like `C` and `C++` and they allow you to work with memory directly.\n",
    "---\n"
   ]
  },
  {
   "cell_type": "markdown",
   "id": "1e06849c",
   "metadata": {},
   "source": [
    "## _**Non-Primitive Data Structure**_"
   ]
  },
  {
   "cell_type": "markdown",
   "id": "eff9c0cd",
   "metadata": {},
   "source": [
    "- Non-primitive data structures are **more complex and can store multiple values.**\n",
    "- They are further categorized into linear and non-linear types.\n",
    "\n",
    "\n",
    "**Array:**\n",
    "- An array is a collection of elements stored in contiguous memory locations. Arrays can hold multiple items of the same type, but they have a fixed size once declared.\n",
    "\n"
   ]
  },
  {
   "cell_type": "code",
   "execution_count": null,
   "id": "541216d3",
   "metadata": {},
   "outputs": [],
   "source": [
    "arr = [10, 20, 30, 40] # An array of integers in Python\n",
    "# It is one dimensional array"
   ]
  },
  {
   "cell_type": "markdown",
   "id": "2e22cf9c",
   "metadata": {},
   "source": [
    "**Lists:**\n",
    "\n",
    "- Lists are like containers that hold multiple items in Python. You can put anything you want inside a list, such as numbers, words, or even other lists.\n",
    "- Lists are ordered, so you can keep related data together and access it easily.\n",
    "\n",
    "**Dictionaries:**\n",
    "\n",
    "- Dictionaries work like real-life dictionaries, where words are connected to their meanings.\n",
    "- In Python, a dictionary associates keys with values. This allows you to quickly find a value using its corresponding key.\n",
    "\n",
    "**Stacks :**\n",
    "\n",
    "- Imagine a stack of plates; you can only add or remove plates from the top. In programming, a stack follows the **Last-In-First-Out (LIFO)** principle.\n",
    "- The last item added is the first one to be removed.\n",
    "- Stacks are modified only from one side, because they have only one enter and exit. \n",
    "\n",
    "**Queues :**\n",
    "\n",
    "- A queue is a linear data structure that follows the **First In, First Out (FIFO)** principle. The first item added is the first one to be removed. Queues are used in scenarios like managing tasks in a print queue or scheduling processes in an operating system.\n",
    "- Queues are modified from both sides, because it has two ways one exist at end and other enterance at start. so, which one will enter first will exit first and which one will enter later will exit later. (e.g., Taking token in NADARA for ID card.)\n",
    "\n",
    "**Trees :**\n",
    "\n",
    "- It is a heirarchical data structure that consists of nodes, where each node has at most two children, referred to as the left child and the right child.\n",
    "   -  **Types of Tree Data Structures**\n",
    "       - Binary Tree\n",
    "       - Teranry Tree\n",
    "       - N-ary Tree\n",
    "\n",
    "**Linked List :**\n",
    "\n",
    "- Linked lists are helpful when you need dynamic storage that can grow or shrink easily.\n",
    "- Unlike arrays, which have a fixed size, linked lists can be modified without reallocating memory.\n",
    "- They're often used in implementing data structures like stacks, and queues, and as the foundation for more complex structures like graphs.\n",
    "\n",
    "**Heapq :**\n",
    "\n",
    "- Heapq is like a special type of list where the elements are arraged in a paritcular order that makes it easy to find the smallest (or largest) element quickly.\n",
    "   - **Min Heap** \n",
    "       - Starting from minimum numbers and ends at maximum numbers.(e.g., Arranging Water Mellon) \n",
    "   - **Max Heap**\n",
    "       - Startting from maximum numbres and ends at minimum numbers. (e.g., Reverse of arranging Water Mellon)   \n",
    "\n",
    "**Doubly Linked List :**\n",
    "\n",
    "- A doubly linked list is similar to a linked list, but each node has a reference to both the next and the previous node.(e.g., Queues)\n",
    "\n",
    "**Trie (Prefix Tree) :**\n",
    "\n",
    "- A trie is a tree-like data structure that is used to efficiently store and search a large collection of strings. It is often used for autocomplete and dictionary implementations.\n",
    "\n",
    "**Graph :**\n",
    "\n",
    "- A graph is a collection of nodes (vertices) and edges that connect pairs of nodes. Graphs are widely used to represent networks or relationships between objects.\n",
    "\n",
    "---"
   ]
  }
 ],
 "metadata": {
  "kernelspec": {
   "display_name": "python_basics",
   "language": "python",
   "name": "python3"
  },
  "language_info": {
   "codemirror_mode": {
    "name": "ipython",
    "version": 3
   },
   "file_extension": ".py",
   "mimetype": "text/x-python",
   "name": "python",
   "nbconvert_exporter": "python",
   "pygments_lexer": "ipython3",
   "version": "3.13.2"
  }
 },
 "nbformat": 4,
 "nbformat_minor": 5
}
